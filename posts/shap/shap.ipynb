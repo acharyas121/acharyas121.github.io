{
 "cells": [
  {
   "cell_type": "markdown",
   "id": "afdf3cc8",
   "metadata": {},
   "source": []
  },
  {
   "cell_type": "markdown",
   "id": "dc1a2418",
   "metadata": {},
   "source": [
    "### SHAP \n",
    "SHAP (SHapley Additive exPlanations) is a method used to explain the output of any machine learning model. It connects game theory with local explanations to determine the contribution of each feature to a particular prediction.\n",
    "A Shapley value is the average marginal contribution of a feature value across all possible combinations (coalitions) of features."
   ]
  },
  {
   "cell_type": "markdown",
   "id": "4f43ba74",
   "metadata": {},
   "source": [
    "## The Fundamentals: Shapley Values Explained\n",
    "\n",
    "SHAP is built upon **Shapley values**, a concept from cooperative game theory created by Nobel laureate Lloyd Shapley. The Shapley value is the average marginal contribution of a feature across all possible combinations (or \"coalitions\") of features.\n",
    "\n",
    "To calculate the contribution of `Feature X`:\n",
    "1. We create every possible subset of other features (these are the coalitions).\n",
    "2. For each subset, we measure the model's prediction *with* `Feature X` and *without* it. The difference is the marginal contribution of `Feature X` to that specific coalition.\n",
    "3. We take the weighted average of all these marginal contributions. This average is the Shapley value for `Feature X`.\n",
    "\n",
    "### The Formula\n",
    "\n",
    "The formula for the Shapley value ($\\phi_i$) for a feature $i$ looks intimidating, but the concept is what we just described:\n",
    "\n",
    "$$ \\phi_i = \\sum_{S \\subseteq F \\setminus \\{i\\}} \\frac{|S|!(|F| - |S| - 1)!}{|F|!} [f_{S \\cup \\{i\\}}(x_{S \\cup \\{i\\}}) - f_S(x_S)] $$\n",
    "\n",
    "Where,\n",
    "* $F$ is the set of all features.\n",
    "* $S$ is a subset of features that does not include feature $i$.\n",
    "* The term $[f_{S \\cup \\{i\\}}(...) - f_S(...)]$ is the **marginal contribution**: the prediction with feature $i$ minus the prediction without it.\n",
    "* The fraction is the **weighting factor** that accounts for the size of the coalition, ensuring a fair average.\n",
    "\n",
    "Calculating this for every possible coalition is computationally impossible for models with many features. The brilliance of the `shap` library is that it provides highly optimized algorithms (like `TreeExplainer` and `KernelExplainer`) that approximate these values efficiently."
   ]
  },
  {
   "cell_type": "markdown",
   "id": "8601b265",
   "metadata": {},
   "source": []
  }
 ],
 "metadata": {
  "language_info": {
   "name": "python"
  }
 },
 "nbformat": 4,
 "nbformat_minor": 5
}
