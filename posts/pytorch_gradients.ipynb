{
 "cells": [
  {
   "cell_type": "markdown",
   "id": "191f4118",
   "metadata": {},
   "source": [
    "---\n",
    "title: \"Pytorch Grad!\"\n",
    "description: \"How Gradients Work in Pytorch; A simple short implementation\"\n",
    "date: 2025-08-19\n",
    "categories: [machine-learning, tutorials, deep-learning, pytorch]\n",
    "---"
   ]
  },
  {
   "cell_type": "code",
   "execution_count": 6,
   "id": "7537cfc5-3a24-4d42-86a1-345bd1564e1b",
   "metadata": {},
   "outputs": [],
   "source": [
    "import torch"
   ]
  },
  {
   "cell_type": "code",
   "execution_count": 7,
   "id": "224df8e3-aa51-44ac-91cd-a481d329547b",
   "metadata": {},
   "outputs": [],
   "source": [
    "# We want to find a 'w' such that y is close to w * x.\n",
    "# The true 'w' is clearly 2.\n",
    "X = torch.tensor([1.0, 2.0, 3.0, 4.0], dtype=torch.float32)\n",
    "Y = torch.tensor([2.0, 4.0, 6.0, 8.0], dtype=torch.float32)\n",
    "\n",
    "# Initialize our weight 'w' with a random guess.\n",
    "# requires_grad=True tells PyTorch to track this tensor for gradient calculations.\n",
    "w = torch.tensor(0.0, dtype=torch.float32, requires_grad=True)\n"
   ]
  },
  {
   "cell_type": "code",
   "execution_count": 8,
   "id": "39896311-1ccb-47eb-9fa5-5a8524a2c5a8",
   "metadata": {},
   "outputs": [],
   "source": [
    "def forward(x):\n",
    "    return w * x\n",
    "\n",
    "def loss(y, y_predicted):\n",
    "    return ((y_predicted - y)**2).mean()\n",
    "\n",
    "learning_rate = 0.01\n",
    "n_iters = 20"
   ]
  },
  {
   "cell_type": "code",
   "execution_count": 9,
   "id": "135993d8-184e-4356-b1ba-ce2682140864",
   "metadata": {},
   "outputs": [
    {
     "name": "stdout",
     "output_type": "stream",
     "text": [
      "Starting training... Initial weight w = 0.000\n",
      "Epoch 2: w = 0.555, w gradient: -25.5, loss = 21.67499924\n",
      "Epoch 4: w = 0.956, w gradient: -18.423751831054688, loss = 11.31448650\n",
      "Epoch 6: w = 1.246, w gradient: -13.311159133911133, loss = 5.90623236\n",
      "Epoch 8: w = 1.455, w gradient: -9.61731243133545, loss = 3.08308983\n",
      "Epoch 10: w = 1.606, w gradient: -6.948507308959961, loss = 1.60939169\n",
      "Epoch 12: w = 1.716, w gradient: -5.020296096801758, loss = 0.84011245\n",
      "Epoch 14: w = 1.794, w gradient: -3.627163887023926, loss = 0.43854395\n",
      "Epoch 16: w = 1.851, w gradient: -2.6206254959106445, loss = 0.22892261\n",
      "Epoch 18: w = 1.893, w gradient: -1.8934016227722168, loss = 0.11949898\n",
      "Epoch 20: w = 1.922, w gradient: -1.3679819107055664, loss = 0.06237914\n",
      "\n",
      "Training finished. The learned weight is: 1.922\n",
      "The true weight was 2.0\n"
     ]
    }
   ],
   "source": [
    "\n",
    "print(f\"Starting training... Initial weight w = {w.item():.3f}\")\n",
    "\n",
    "for epoch in range(n_iters):\n",
    "    # Forward pass\n",
    "    y_pred = forward(X)\n",
    "\n",
    "    # loss\n",
    "    l = loss(Y, y_pred)\n",
    "\n",
    "    # Calculate gradients = backward pass\n",
    "    # core of autograd. It calculates the derivative of 'l'\n",
    "    # with respect to every tensor that has requires_grad=True (i.e., 'w').\n",
    "    l.backward() # dl/dw\n",
    "\n",
    "    # Manually update weights\n",
    "    # torch.no_grad() because this is not part of the computation graph\n",
    "    with torch.no_grad():\n",
    "        # The calculated gradient is now in w.grad\n",
    "        # Update rule: w = w - learning_rate * gradient\n",
    "        w.data -= learning_rate * w.grad\n",
    "\n",
    "    # Zero out the gradients for the next iteration\n",
    "    if (epoch + 1) % 2 == 0:\n",
    "        print(f'Epoch {epoch+1}: w = {w.item():.3f}, w gradient: {w.grad}, loss = {l.item():.8f}')\n",
    "\n",
    "    w.grad.zero_()\n",
    "\n",
    "    # if (epoch + 1) % 2 == 0:\n",
    "    #     print(f'Epoch {epoch+1}: w = {w.item():.3f}, w gradient: {w.grad}, loss = {l.item():.8f}')\n",
    "\n",
    "print(f\"\\nTraining finished. The learned weight is: {w.item():.3f}\")\n",
    "print(\"The true weight was 2.0\")\n"
   ]
  },
  {
   "cell_type": "code",
   "execution_count": null,
   "id": "01e80f9d-dc9b-4bf6-b846-0f44eb7e3a3e",
   "metadata": {},
   "outputs": [],
   "source": []
  }
 ],
 "metadata": {
  "kernelspec": {
   "display_name": "Python 3 (ipykernel)",
   "language": "python",
   "name": "python3"
  },
  "language_info": {
   "codemirror_mode": {
    "name": "ipython",
    "version": 3
   },
   "file_extension": ".py",
   "mimetype": "text/x-python",
   "name": "python",
   "nbconvert_exporter": "python",
   "pygments_lexer": "ipython3",
   "version": "3.12.3"
  }
 },
 "nbformat": 4,
 "nbformat_minor": 5
}
